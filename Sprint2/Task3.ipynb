{
 "cells": [
  {
   "cell_type": "markdown",
   "metadata": {},
   "source": [
    "<h1 style=\"color:DodgerBlue\">Индивидальный проект</h1>"
   ]
  },
  {
   "cell_type": "markdown",
   "metadata": {},
   "source": [
    "<h2 style=\"color:DodgerBlue\">Название проекта:</h2>\n",
    "\n",
    "----\n",
    "\n",
    "### Вариант задания 5\n"
   ]
  },
  {
   "cell_type": "markdown",
   "metadata": {},
   "source": [
    "<h2 style=\"color:DodgerBlue\">Описание проекта:</h2>\n",
    "\n",
    "\n",
    "Создать базовый класс Book в C#, который будет представлять информацию о книгах. На основе этого класса разработать 2-3 производных класса, демонстрирующих принципы наследования и полиморфизма. В каждом из классов должны быть реализованы новые атрибуты и методы, а также переопределены некоторые методы базового класса для демонстрации полиморфизма. \n",
    "\n",
    "Требования к базовому классу Book: \n",
    "\n",
    "• Атрибуты: Название (Title), Автор (Author), Год издания (YearOfPublication). \n",
    "\n",
    "• Методы: o GetInfo(): метод для получения информации о книге в виде строки. \n",
    "\n",
    "o Read(): метод для вывода сообщения о чтении книги. \n",
    "\n",
    "o Borrow(): метод для вывода сообщения о выдаче книги на чтение.\n",
    "\n",
    "\n",
    "Требования к производным классам: \n",
    "1. Учебник (Textbook): Должен содержать дополнительные атрибуты, такие как Предмет (Subject). Метод Read() должен быть переопределен для добавления информации о предмете при чтении учебника. \n",
    "\n",
    "2. Художественная литература (Fiction): Должен содержать дополнительные атрибуты, такие как Жанр (Genre). Метод Borrow() должен быть переопределен для добавления информации о жанре при выдаче книги на чтение. \n",
    "\n",
    "3. Научная литература (ScientificLiterature) (если требуется третий класс): Должен содержать дополнительные атрибуты, такие как Область науки (FieldOfScience). Метод GetInfo() должен быть переопределен для включения информации об области науки в описании книги. \n",
    "\n",
    "\n",
    "#### Дополнительное задание\n",
    "Добавьте к сущестующим классам (базовыму и производным 3-4 атрибута и метода) и реализуйте простое, сложное и множественное наследование"
   ]
  },
  {
   "cell_type": "markdown",
   "metadata": {},
   "source": [
    "<h2 style=\"color:DodgerBlue\">Реализация:</h2>\n",
    "\n",
    "----"
   ]
  },
  {
   "cell_type": "code",
   "execution_count": 9,
   "metadata": {
    "dotnet_interactive": {
     "language": "csharp"
    },
    "polyglot_notebook": {
     "kernelName": "csharp"
    }
   },
   "outputs": [
    {
     "data": {
      "text/plain": [
       "Вы читаете книгу в жанре Драма."
      ]
     },
     "metadata": {},
     "output_type": "display_data"
    }
   ],
   "source": [
    "class Book\n",
    "{\n",
    "    protected string Title {get; set;}\n",
    "    protected string Author {get; set;}\n",
    "    protected int YearOfPublication {get; set;}\n",
    "\n",
    "    public Book(string title, string author, int yearOfPublication)\n",
    "    {\n",
    "         this.Title = title;\n",
    "         this.Author = author;\n",
    "         this.YearOfPublication = yearOfPublication;\n",
    "    }\n",
    "\n",
    "}\n",
    "\n",
    "\n",
    "\n",
    "public interface IGetInfo\n",
    "    {\n",
    "        string GetInfo();\n",
    "    }\n",
    "\n",
    "public interface IRead\n",
    "    {\n",
    "        string Read();\n",
    "    }\n",
    "    \n",
    "public interface IBorrow\n",
    "    {\n",
    "        string Borrow();\n",
    "    }\n",
    "\n",
    "\n",
    "\n",
    "\n",
    "\n",
    "class Textbook : Book, IRead, IBorrow, IGetInfo{\n",
    "\n",
    "    protected string Subject{get; set;}\n",
    "    \n",
    "    public Textbook(string title, string author, int yearOfPublication, string subject) : base(title, author, yearOfPublication)\n",
    "    {\n",
    "         this.Subject = subject;\n",
    "    }\n",
    "\n",
    "    public string GetInfo()\n",
    "    {\n",
    "        return $\" Название книги: {Title}\\n Автор: {Author}\\n Год издания: {YearOfPublication}\\n Предмет: {Subject}\";\n",
    "    }\n",
    "\n",
    "    public string Read()\n",
    "    {\n",
    "        return $\"Вы читаете учебник по {Subject}.\";\n",
    "    }\n",
    "\n",
    "    public string Borrow()\n",
    "    {\n",
    "        return \"Вы взяли учебник.\";\n",
    "    }\n",
    "\n",
    "\n",
    "\n",
    "}\n",
    "\n",
    "class Fiction : Book, IBorrow, IRead, IGetInfo{\n",
    "\n",
    "    protected string Genre{get; set;}\n",
    "\n",
    "    public Fiction(string title, string author, int yearOfPublication, string genre) : base(title, author, yearOfPublication)\n",
    "    {\n",
    "         this.Genre = genre;\n",
    "    }\n",
    "\n",
    "    public string GetInfo()\n",
    "    {\n",
    "        return $\"Название книги: {Title}\\n Автор: {Author}\\n Год издания: {YearOfPublication}\\n Жанр: {Genre}\";\n",
    "    }\n",
    "\n",
    "    public  string Borrow()\n",
    "    {\n",
    "        return $\"Вы взяли учебник.\";\n",
    "    }\n",
    "\n",
    "    public string Read()\n",
    "    {\n",
    "        return $\"Вы читаете книгу в жанре {Genre}.\";\n",
    "    }\n",
    "\n",
    "\n",
    "}\n",
    "\n",
    "\n",
    "class ScientificLiterature : Book, IGetInfo, IBorrow, IRead{\n",
    "\n",
    "    protected string FieldOfScience{get; set;}\n",
    "\n",
    "    public ScientificLiterature(string title, string author, int yearOfPublication, string fieldofscience) : base(title, author, yearOfPublication)\n",
    "    {\n",
    "         this.FieldOfScience = fieldofscience;\n",
    "    }\n",
    "\n",
    "    public string GetInfo()\n",
    "    {\n",
    "        return $\"Название книги: {Title}\\n Автор: {Author}\\n Год издания: {YearOfPublication} Область науки: {FieldOfScience}\";\n",
    "    }\n",
    "\n",
    "     public  string Borrow()\n",
    "    {\n",
    "        return $\"Вы взяли учебник.\";\n",
    "    }\n",
    "\n",
    "    public string Read()\n",
    "    {\n",
    "        return $\"Вы читаете книгу области науки {FieldOfScience}.\";\n",
    "    }\n",
    "\n",
    "}\n",
    "\n",
    "Fiction Hard1 = new Fiction(\"Ауук\", \"Афанасьев Лисьев\", 1934, \"Драма\");\n",
    "Hard1.Read()"
   ]
  }
 ],
 "metadata": {
  "kernelspec": {
   "display_name": ".NET (C#)",
   "language": "C#",
   "name": ".net-csharp"
  },
  "polyglot_notebook": {
   "kernelInfo": {
    "defaultKernelName": "csharp",
    "items": [
     {
      "aliases": [],
      "languageName": "csharp",
      "name": "csharp"
     }
    ]
   }
  }
 },
 "nbformat": 4,
 "nbformat_minor": 2
}
