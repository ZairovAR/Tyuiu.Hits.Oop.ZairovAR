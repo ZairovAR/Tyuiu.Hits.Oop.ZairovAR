{
 "cells": [
  {
   "cell_type": "markdown",
   "metadata": {},
   "source": [
    "<h1 style=\"color:DodgerBlue\">Индивидальный проект</h1>"
   ]
  },
  {
   "cell_type": "markdown",
   "metadata": {},
   "source": [
    "<h2 style=\"color:DodgerBlue\">Название проекта: Библиотека </h2>\n",
    "\n",
    "\n",
    "\n",
    "### Вариант задания № 5\n"
   ]
  },
  {
   "cell_type": "markdown",
   "metadata": {},
   "source": [
    "<h2 style=\"color:DodgerBlue\">Описание проекта:</h2>\n",
    "\n",
    "Создать базовый класс Book в C#, который будет представлять информацию о книгах. На основе этого класса разработать 2-3 производных класса, демонстрирующих принципы наследования и полиморфизма. В каждом из классов должны быть реализованы новые атрибуты и методы, а также переопределены некоторые методы базового класса для демонстрации полиморфизма. \n",
    "\n",
    "Требования к базовому классу Book: \n",
    "\n",
    "• Атрибуты: Название (Title), Автор (Author), Год издания (YearOfPublication). \n",
    "\n",
    "• Методы: o GetInfo(): метод для получения информации о книге в виде строки. \n",
    "\n",
    "o Read(): метод для вывода сообщения о чтении книги. \n",
    "\n",
    "o Borrow(): метод для вывода сообщения о выдаче книги на чтение.\n",
    "\n",
    "\n",
    "Требования к производным классам: \n",
    "1. Учебник (Textbook): Должен содержать дополнительные атрибуты, такие как Предмет (Subject). Метод Read() должен быть переопределен для добавления информации о предмете при чтении учебника. \n",
    "\n",
    "2. Художественная литература (Fiction): Должен содержать дополнительные атрибуты, такие как Жанр (Genre). Метод Borrow() должен быть переопределен для добавления информации о жанре при выдаче книги на чтение. \n",
    "\n",
    "3. Научная литература (ScientificLiterature) (если требуется третий класс): Должен содержать дополнительные атрибуты, такие как Область науки (FieldOfScience). Метод GetInfo() должен быть переопределен для включения информации об области науки в описании книги. \n"
   ]
  },
  {
   "cell_type": "markdown",
   "metadata": {},
   "source": [
    "<h2 style=\"color:DodgerBlue\">Реализация:</h2>\n",
    "\n",
    "----"
   ]
  },
  {
   "cell_type": "code",
   "execution_count": 2,
   "metadata": {
    "dotnet_interactive": {
     "language": "csharp"
    },
    "polyglot_notebook": {
     "kernelName": "csharp"
    }
   },
   "outputs": [
    {
     "name": "stdout",
     "output_type": "stream",
     "text": [
      "Название книги: Мир\n",
      " Автор: Бог\n",
      " Год издания: 0\n",
      "Вы читаете книгу Мир на данный момент\n",
      "Книга Мир выдана на чтение\n"
     ]
    }
   ],
   "source": [
    "class Book\n",
    "{\n",
    "    protected string Title;\n",
    "    protected string Author;\n",
    "    protected int YearOfPublication;\n",
    "\n",
    "    public string GetInfo(string Title, string Author, int YearOfPublication)\n",
    "    {\n",
    "        return $\"Название книги: {Title}\\n Автор: {Author}\\n Год издания: {YearOfPublication}\";\n",
    "    }\n",
    "\n",
    "    public string Read(string Title)\n",
    "    {\n",
    "        return $\"Вы читаете книгу {Title} на данный момент\";\n",
    "    }\n",
    "    \n",
    "    public string Borrow(string Title)\n",
    "    {\n",
    "        return $\"Книга {Title} выдана на чтение\";\n",
    "    }\n",
    "\n",
    "}\n",
    "\n",
    "Book World = new Book();\n",
    "Console.WriteLine(World.GetInfo(\"Мир\", \"Бог\", 0));\n",
    "Console.WriteLine(World.Read(\"Мир\"));\n",
    "Console.WriteLine(World.Borrow(\"Мир\"));\n",
    "\n"
   ]
  }
 ],
 "metadata": {
  "kernelspec": {
   "display_name": ".NET (C#)",
   "language": "C#",
   "name": ".net-csharp"
  },
  "polyglot_notebook": {
   "kernelInfo": {
    "defaultKernelName": "csharp",
    "items": [
     {
      "aliases": [],
      "languageName": "csharp",
      "name": "csharp"
     }
    ]
   }
  }
 },
 "nbformat": 4,
 "nbformat_minor": 2
}
