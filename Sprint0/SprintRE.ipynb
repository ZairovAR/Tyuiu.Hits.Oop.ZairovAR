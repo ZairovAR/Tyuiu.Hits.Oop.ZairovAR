{
 "cells": [
  {
   "cell_type": "code",
   "execution_count": 58,
   "metadata": {
    "dotnet_interactive": {
     "language": "csharp"
    },
    "polyglot_notebook": {
     "kernelName": "csharp"
    }
   },
   "outputs": [
    {
     "name": "stdout",
     "output_type": "stream",
     "text": [
      "Растение Роза\n",
      " Тип: Цветок\n",
      " Размер: 3 см\n",
      " Цвет: Красный\n",
      " Лепестков: 8 шт.\n",
      "\n",
      "Цветок Роза, распускается.\n",
      "Цветок Роза, начинает увядать.\n",
      "\n",
      "Растение Липа\n",
      " Тип: Дерево\n",
      " Размер: 65 см\n",
      " Возраст: 4 года\n",
      " Тип листьев: Лиственные\n",
      "\n",
      "Липа, покрывается новыми листьями. \n",
      "Липа, на данный момент 9 лет. \n"
     ]
    }
   ],
   "source": [
    "class Plant\n",
    "{\n",
    "    protected string Name;\n",
    "    protected string Tip;\n",
    "    protected float Height;\n",
    "\n",
    "\n",
    "    public Plant(string name, string tip, float height)\n",
    "    {\n",
    "         this.Name = name;\n",
    "         this.Tip = tip;\n",
    "         this.Height = height;\n",
    "    }\n",
    "\n",
    "    public virtual void Blossom() \n",
    "    {\n",
    "        Console.WriteLine( $\"{Name}, цветет.\");\n",
    "    }\n",
    "\n",
    "    public virtual void Growing(float value)\n",
    "    {\n",
    "        if (value > 0){\n",
    "            Height += value;\n",
    "            Console.WriteLine($\"{Name} выросла на {value} см. и сейчас её рост {Height} см.\");\n",
    "        }\n",
    "    }\n",
    "}\n",
    "\n",
    "class Flower : Plant{\n",
    "\n",
    "    protected string Cvet;\n",
    "    protected int Lepestok;\n",
    "\n",
    "    public Flower(string name, string tip, float height, string cvet, int lepestok) : base(name, tip, height)\n",
    "    {\n",
    "        this.Cvet = cvet;\n",
    "        this.Lepestok = lepestok;\n",
    "    }\n",
    "\n",
    "    public void INFO(){\n",
    "        Console.WriteLine($\"Растение {Name}\\n Тип: {Tip}\\n Размер: {Height} см\\n Цвет: {Cvet}\\n Лепестков: {Lepestok} шт.\\n\");\n",
    "    } \n",
    "\n",
    "\n",
    "    public override void Blossom() \n",
    "    {\n",
    "        Console.WriteLine( $\"Цветок {Name}, распускается.\");\n",
    "    }\n",
    "\n",
    "    public void Fade(){\n",
    "\n",
    "        Console.WriteLine( $\"Цветок {Name}, начинает увядать.\\n\");\n",
    "    }\n",
    "}\n",
    "\n",
    "class Tree : Plant{\n",
    "\n",
    "    protected int Age;\n",
    "    protected string TypeOfSheets;\n",
    "    \n",
    "    public Tree(string name, string tip, float height, int age, string typeofsheets) : base(name, tip, height)\n",
    "    {\n",
    "        this.Age = age;\n",
    "        this.TypeOfSheets = typeofsheets;\n",
    "    }\n",
    "\n",
    "    public void INFO(){\n",
    "        Console.WriteLine($\"Растение {Name}\\n Тип: {Tip}\\n Размер: {Height} см\\n Возраст: {Age} года\\n Тип листьев: {TypeOfSheets}\\n\");\n",
    "    }\n",
    "\n",
    "    public override void Blossom() \n",
    "    {\n",
    "        Console.WriteLine( $\"{Name}, покрывается новыми листьями. \");\n",
    "    }\n",
    "\n",
    "\n",
    "    public void Grow(int value)\n",
    "    {\n",
    "        if (value > 0){\n",
    "            Age += value;\n",
    "            Console.WriteLine($\"{Name}, на данный момент {Age} лет. \");\n",
    "        }\n",
    "    }\n",
    "\n",
    "}\n",
    "\n",
    "\n",
    "\n",
    "Flower Rosa = new Flower(\"Роза\", \"Цветок\", 3, \"Красный\", 8);\n",
    "Rosa.INFO();\n",
    "Rosa.Blossom();\n",
    "Rosa.Fade();\n",
    "\n",
    "Tree Lipa = new Tree(\"Липа\", \"Дерево\", 65, 4, \"Лиственные\");\n",
    "Lipa.INFO();\n",
    "Lipa.Blossom();\n",
    "Lipa.Grow(5)\n"
   ]
  }
 ],
 "metadata": {
  "kernelspec": {
   "display_name": ".NET (C#)",
   "language": "C#",
   "name": ".net-csharp"
  },
  "polyglot_notebook": {
   "kernelInfo": {
    "defaultKernelName": "csharp",
    "items": [
     {
      "aliases": [],
      "name": "csharp"
     }
    ]
   }
  }
 },
 "nbformat": 4,
 "nbformat_minor": 2
}
