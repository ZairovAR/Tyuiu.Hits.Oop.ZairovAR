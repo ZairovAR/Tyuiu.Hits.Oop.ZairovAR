{
 "cells": [
  {
   "cell_type": "markdown",
   "metadata": {},
   "source": [
    "<h1 style=\"color:DodgerBlue\">Основные понятия и концепции ООП</h1>\n",
    "\n",
    "Объектно-ориентированное программирование (ООП) в C# включает в себя несколько ключевых концепций, которые помогают структурировать программы и улучшить их читаемость, поддерживаемость и расширяемость. \n",
    "\n",
    "К ним относятся: \n",
    "1. Классы и объекты \n",
    "2. Инкапсуляция \n",
    "3. Насладование \n",
    "4. Полиморфизм \n",
    "5. Абстракция\n",
    "6. Композиция\n",
    "7. Агрегация\n",
    "\n",
    "Давайте рассмотрим каждую из этих концепций подробнее."
   ]
  },
  {
   "cell_type": "markdown",
   "metadata": {},
   "source": [
    "<h2 style=\"color:DodgerBlue\">1. Классы и Объекты</h2>\n",
    "Классы в C# - это шаблоны для создания объектов. Они определяют набор свойств (данных) и методов (действий), которые могут выполнять эти объекты. Объекты создаются по этим шаблонам и представляют собой экземпляры классов.\n",
    "\n",
    "<h3 style=\"color:DodgerBlue\">Пример кода:</h3>\n",
    "\n",
    "\n",
    "```csharp\n",
    "// Создание класса\n",
    "class Vehicle\n",
    "{\n",
    "\n",
    "}\n",
    "\n",
    "// Основная программа\n",
    "Vehicle Car = new Vehicle(); // Создание объекта\n",
    "```"
   ]
  },
  {
   "cell_type": "markdown",
   "metadata": {},
   "source": [
    "<h4 style=\"color:DodgerBlue\">Для проверки напишите пример кода ниже в блоке:</h4>\n",
    "\n",
    "----"
   ]
  },
  {
   "cell_type": "code",
   "execution_count": 100,
   "metadata": {
    "dotnet_interactive": {
     "language": "csharp"
    },
    "polyglot_notebook": {
     "kernelName": "csharp"
    }
   },
   "outputs": [],
   "source": [
    "class Vehicle\n",
    "{\n",
    " \n",
    "}\n",
    "\n",
    "// Основная программа\n",
    "Vehicle Car = new Vehicle(); // Создание объекта"
   ]
  },
  {
   "cell_type": "markdown",
   "metadata": {},
   "source": [
    "<h4 style=\"color:Red\">Задание:</h4>\n",
    "\n",
    "----\n",
    "\n",
    "Ниже в блоке по примеру создайте класс Animal\n",
    "\n"
   ]
  },
  {
   "cell_type": "code",
   "execution_count": 101,
   "metadata": {
    "dotnet_interactive": {
     "language": "csharp"
    },
    "polyglot_notebook": {
     "kernelName": "csharp"
    }
   },
   "outputs": [],
   "source": [
    "class Animal\n",
    "{\n",
    "\n",
    "}\n",
    "\n",
    "// Основная программа\n",
    "Animal Car = new Animal(); // Создание объекта"
   ]
  },
  {
   "cell_type": "markdown",
   "metadata": {},
   "source": [
    "<h2 style=\"color:DodgerBlue\">2. Инкапсуляция</h2>\n",
    "\n",
    "Инкапсуляция - это процесс скрытия деталей реализации класса от пользователя. В C#, инкапсуляция достигается за счет использования модификаторов доступа (`public`, `private`, `protected`), а также свойства и методы для управления доступом к данным объекта.\n",
    "\n",
    "```csharp\n",
    "// Создание класса\n",
    "class Vehicle\n",
    "{\n",
    "    private string color; // Приватное поле\n",
    "\n",
    "    public string Color // Свойство с геттером и сеттером\n",
    "    {\n",
    "        get { return color; }\n",
    "        set { color = value; }\n",
    "    }\n",
    "\n",
    "    public void StartEngine() // Публичный метод\n",
    "    {\n",
    "        Console.WriteLine(\"Запустить двигатель...\");\n",
    "    }\n",
    "}\n",
    "\n",
    "// Основная программа\n",
    "Vehicle Car = new Vehicle(); // Создание объекта\n",
    "Car.Color = \"Красный\";\n",
    "Car.StartEngine();\n",
    "Console.WriteLine(Car.Color);\n",
    "\n",
    "```"
   ]
  },
  {
   "cell_type": "markdown",
   "metadata": {},
   "source": [
    "<h4 style=\"color:DodgerBlue\">Для проверки напишите пример кода ниже в блоке:</h4>\n",
    "\n",
    "----"
   ]
  },
  {
   "cell_type": "code",
   "execution_count": 102,
   "metadata": {
    "dotnet_interactive": {
     "language": "csharp"
    },
    "polyglot_notebook": {
     "kernelName": "csharp"
    }
   },
   "outputs": [
    {
     "name": "stdout",
     "output_type": "stream",
     "text": [
      "Запустить двигатель...\n",
      "Красный\n"
     ]
    }
   ],
   "source": [
    "class Vehicle\n",
    "{\n",
    "    private string color; // Приватное поле\n",
    "\n",
    "    public string Color // Свойство с геттером и сеттером\n",
    "    {\n",
    "        get { return color; }\n",
    "        set { color = value; }\n",
    "    }\n",
    "\n",
    "    public void StartEngine() // Публичный метод\n",
    "    {\n",
    "        Console.WriteLine(\"Запустить двигатель...\");\n",
    "    }\n",
    "}\n",
    "\n",
    "// Основная программа\n",
    "Vehicle Car = new Vehicle(); // Создание объекта\n",
    "Car.Color = \"Красный\";\n",
    "Car.StartEngine();\n",
    "Console.WriteLine(Car.Color);"
   ]
  },
  {
   "cell_type": "markdown",
   "metadata": {},
   "source": [
    "<h4 style=\"color:Red\">Задание:</h4>\n",
    "\n",
    "----\n",
    "\n",
    "Ниже в блоке по примеру создайте класс Animal и реализуйте инкапсуляцию "
   ]
  },
  {
   "cell_type": "code",
   "execution_count": 103,
   "metadata": {
    "dotnet_interactive": {
     "language": "csharp"
    },
    "polyglot_notebook": {
     "kernelName": "csharp"
    }
   },
   "outputs": [],
   "source": [
    "class Animal\n",
    "{\n",
    "    private string hunt; // Приватное поле\n",
    "\n",
    "    public string Hunt // Свойство с геттером и сеттером\n",
    "    {\n",
    "        get { return hunt; }\n",
    "        set { hunt = value; }\n",
    "    }\n",
    "\n",
    "    public void StartEngine() // Публичный метод\n",
    "    {\n",
    "        Console.WriteLine(\"Ищет зверя...\");\n",
    "    }\n",
    "}\n",
    "\n",
    "// Основная программа\n",
    "Animal Car = new Animal(); // Создание объекта\n",
    "Car.Hunt = \"Поймал зверя\";\n",
    "Car.StartEngine();\n",
    "Console.WriteLine(Car.Hunt);"
   ]
  },
  {
   "cell_type": "markdown",
   "metadata": {},
   "source": [
    "<h2 style=\"color:DodgerBlue\">3. Наследование</h2>\n",
    "\n",
    "Наследование позволяет создавать новые классы на основе существующих, наследуя их свойства и методы. Это упрощает повторное использование кода и расширение функциональности.\n",
    "\n",
    "```csharp\n",
    "\n",
    "class Vehicle\n",
    "{\n",
    "    private string color; // Приватное поле\n",
    "\n",
    "    public string Color // Свойство с геттером и сеттером\n",
    "    {\n",
    "        get { return color; }\n",
    "        set { color = value; }\n",
    "    }\n",
    "    public void Move()\n",
    "    {\n",
    "        Console.WriteLine(\"Поехали...\");\n",
    "    }\n",
    "}\n",
    "\n",
    "class Car : Vehicle\n",
    "{\n",
    "\n",
    "}\n",
    "\n",
    "Vehicle myVehicle = new Vehicle(); // Создание объекта myVehicle\n",
    "Car myCar = new Car(); // Создание объекта myCar\n",
    "\n",
    "myCar.Color = \"Красный\";\n",
    "Console.WriteLine(myCar.Color);\n",
    "myCar.Move();\n",
    "\n",
    "myVehicle.Color = \"Синий\";\n",
    "Console.WriteLine(myVehicle.Color);\n",
    "myVehicle.Move();\n",
    "\n",
    "```"
   ]
  },
  {
   "cell_type": "markdown",
   "metadata": {},
   "source": [
    "<h4 style=\"color:DodgerBlue\">Для проверки напишите пример кода ниже в блоке:</h4>\n",
    "\n",
    "----"
   ]
  },
  {
   "cell_type": "code",
   "execution_count": 104,
   "metadata": {
    "dotnet_interactive": {
     "language": "csharp"
    },
    "polyglot_notebook": {
     "kernelName": "csharp"
    }
   },
   "outputs": [],
   "source": [
    "class Vehicle\n",
    "{\n",
    "    private string color; // Приватное поле\n",
    "\n",
    "    public string Color // Свойство с геттером и сеттером\n",
    "    {\n",
    "        get { return color; }\n",
    "        set { color = value; }\n",
    "    }\n",
    "    public void Move()\n",
    "    {\n",
    "        Console.WriteLine(\"Поехали...\");\n",
    "    }\n",
    "}\n",
    "\n",
    "class Car : Vehicle\n",
    "{\n",
    "\n",
    "}\n",
    "\n",
    "Vehicle myVehicle = new Vehicle(); // Создание объекта myVehicle\n",
    "Car myCar = new Car(); // Создание объекта myCar\n",
    "\n",
    "myCar.Color = \"Красный\";\n",
    "Console.WriteLine(myCar.Color);\n",
    "myCar.Move();\n",
    "\n",
    "myVehicle.Color = \"Синий\";\n",
    "Console.WriteLine(myVehicle.Color);\n",
    "myVehicle.Move();"
   ]
  },
  {
   "cell_type": "markdown",
   "metadata": {},
   "source": [
    "<h4 style=\"color:Red\">Задание:</h4>\n",
    "\n",
    "----\n",
    "\n",
    "Ниже в блоке по примеру создайте класс Animal и реализуйте наследование "
   ]
  },
  {
   "cell_type": "code",
   "execution_count": 105,
   "metadata": {
    "dotnet_interactive": {
     "language": "csharp"
    },
    "polyglot_notebook": {
     "kernelName": "csharp"
    }
   },
   "outputs": [],
   "source": [
    "class Animal\n",
    "{\n",
    "    private string color; // Приватное поле\n",
    "\n",
    "    public string animal // Свойство с геттером и сеттером\n",
    "    {\n",
    "        get { return color; }\n",
    "        set { color = value; }\n",
    "    }\n",
    "    public void Mouse()\n",
    "    {\n",
    "        Console.WriteLine(\"Бегает за мышью\");\n",
    "    }\n",
    "\n",
    "     public void Banana()\n",
    "    {\n",
    "        Console.WriteLine(\"Ест банан\");\n",
    "    }\n",
    "}\n",
    "\n",
    "\n",
    "\n",
    "Animal Monk = new Animal(); \n",
    "ACat Cat = new ACat(); \n",
    "\n",
    "Monk.animal = \"Обезьяна\";\n",
    "Console.WriteLine(Monk.animal);\n",
    "Monk.Banana();\n",
    "\n",
    "Cat.animal = \"Кот\";\n",
    "Console.WriteLine(Cat.animal);\n",
    "Cat.Mouse();"
   ]
  },
  {
   "cell_type": "markdown",
   "metadata": {},
   "source": [
    "<h2 style=\"color:DodgerBlue\">4. Полиморфизм</h2>\n",
    "\n",
    "Полиморфизм позволяет использовать один интерфейс для различных типов данных. В C# это достигается через переопределение методов и перегрузку методов и операторов.\n",
    "Метод Move() может быть переопределен в классе Car для выполнения специфической для автомобилей логики:\n",
    "\n",
    "```csharp\n",
    "class Vehicle\n",
    "{\n",
    "    public virtual void Move()\n",
    "    {\n",
    "        Console.WriteLine(\"Транспорт двигается\");\n",
    "    }\n",
    "}\n",
    "\n",
    "class Car : Vehicle\n",
    "{\n",
    "    public override void Move()\n",
    "    {\n",
    "        //base.Move(); // Вызов метода базового класса\n",
    "        Console.WriteLine(\"Автомобиль двигается\");\n",
    "    }\n",
    "}\n",
    "\n",
    "Vehicle myVehicle = new Vehicle(); // Создание объекта myVehicle\n",
    "Car myCar = new Car(); // Создание объекта myCar\n",
    "\n",
    "\n",
    "myVehicle.Move();\n",
    "myCar.Move();\n",
    "```"
   ]
  },
  {
   "cell_type": "markdown",
   "metadata": {},
   "source": [
    "<h4 style=\"color:DodgerBlue\">Для проверки напишите пример кода ниже в блоке:</h4>\n",
    "\n",
    "----"
   ]
  },
  {
   "cell_type": "code",
   "execution_count": 106,
   "metadata": {
    "dotnet_interactive": {
     "language": "csharp"
    },
    "polyglot_notebook": {
     "kernelName": "csharp"
    }
   },
   "outputs": [],
   "source": [
    "class Vehicle\n",
    "{\n",
    "    public virtual void Move()\n",
    "    {\n",
    "        Console.WriteLine(\"Транспорт двигается\");\n",
    "    }\n",
    "    \n",
    "}\n",
    "\n",
    "class Car : Vehicle\n",
    "{\n",
    "    public override void Move()\n",
    "    {\n",
    "        base.Move(); // Вызов метода базового класса\n",
    "        Console.WriteLine(\"Автомобиль двигается\");\n",
    "    }\n",
    "}\n",
    "\n",
    "Vehicle myVehicle = new Vehicle(); // Создание объекта myVehicle\n",
    "Car myCar = new Car(); // Создание объекта myCar\n",
    "\n",
    "\n",
    "myVehicle.Move();\n",
    "myCar.Move();"
   ]
  },
  {
   "cell_type": "markdown",
   "metadata": {},
   "source": [
    "<h4 style=\"color:Red\">Задание:</h4>\n",
    "\n",
    "----\n",
    "\n",
    "Ниже в блоке по примеру создайте класс Animal и реализуйте полиморфизм "
   ]
  },
  {
   "cell_type": "code",
   "execution_count": 107,
   "metadata": {
    "dotnet_interactive": {
     "language": "csharp"
    },
    "polyglot_notebook": {
     "kernelName": "csharp"
    }
   },
   "outputs": [],
   "source": [
    "class Animal \n",
    "{\n",
    "    public virtual void Speed()\n",
    "    {\n",
    "        Console.WriteLine(\"Бежит животное..\");\n",
    "    }\n",
    "}\n",
    "\n",
    "class Predator : Animal\n",
    "{\n",
    "    public override void Speed()\n",
    "    {\n",
    "        Console.WriteLine(\"Леопард бежит со скоростью 60 км.ч\");\n",
    "    }\n",
    "}\n",
    "\n",
    "Animal OneAnimal = new Animal();\n",
    "Predator Leopard = new Predator();\n",
    "\n",
    "\n",
    "OneAnimal.Speed();\n",
    "Leopard.Speed();"
   ]
  },
  {
   "cell_type": "markdown",
   "metadata": {},
   "source": [
    "<h2 style=\"color:DodgerBlue\">5. Абстракция</h2>\n",
    "\n",
    "Если бы у нас был класс ElectricCar, который должен иметь некоторые уникальные методы, мы могли бы определить абстрактный класс Car с абстрактными методами, обязательными для реализации в производных классах:\n",
    "\n",
    "```csharp\n",
    "\n",
    "abstract class Car\n",
    "{\n",
    "    public abstract void ChargeBattery();\n",
    "\n",
    "    public void Move()\n",
    "    {\n",
    "        Console.WriteLine(\"Поехали...\");\n",
    "    }\n",
    "}\n",
    "\n",
    "class ElectricCar : Car\n",
    "{\n",
    "    public override void ChargeBattery()\n",
    "    {\n",
    "        Console.WriteLine(\"Батарея заряжена...\");\n",
    "    }\n",
    "}\n",
    "\n",
    "ElectricCar myElectricCar = new ElectricCar(); // Создание объекта myElectricCar\n",
    "\n",
    "myElectricCar.ChargeBattery();\n",
    "myElectricCar.Move();\n",
    "\n",
    "```"
   ]
  },
  {
   "cell_type": "markdown",
   "metadata": {},
   "source": [
    "<h4 style=\"color:DodgerBlue\">Для проверки напишите пример кода ниже в блоке:</h4>\n",
    "\n",
    "----"
   ]
  },
  {
   "cell_type": "code",
   "execution_count": 108,
   "metadata": {
    "dotnet_interactive": {
     "language": "csharp"
    },
    "polyglot_notebook": {
     "kernelName": "csharp"
    }
   },
   "outputs": [],
   "source": [
    "abstract class Car\n",
    "{\n",
    "    public abstract void ChargeBattery();\n",
    "\n",
    "    public void Move()\n",
    "    {\n",
    "        Console.WriteLine(\"Поехали...\");\n",
    "    }\n",
    "}\n",
    "\n",
    "class ElectricCar : Car\n",
    "{\n",
    "    public override void ChargeBattery()\n",
    "    {\n",
    "        Console.WriteLine(\"Батарея заряжена...\");\n",
    "    }\n",
    "}\n",
    "\n",
    "ElectricCar myElectricCar = new ElectricCar(); // Создание объекта myElectricCar\n",
    "\n",
    "myElectricCar.ChargeBattery();\n",
    "myElectricCar.Move();"
   ]
  },
  {
   "cell_type": "markdown",
   "metadata": {},
   "source": [
    "<h4 style=\"color:Red\">Задание:</h4>\n",
    "\n",
    "----\n",
    "\n",
    "Ниже в блоке по примеру создайте класс Animal и реализуйте абстракцию "
   ]
  },
  {
   "cell_type": "code",
   "execution_count": 109,
   "metadata": {
    "dotnet_interactive": {
     "language": "csharp"
    },
    "polyglot_notebook": {
     "kernelName": "csharp"
    }
   },
   "outputs": [],
   "source": [
    "abstract class Animal\n",
    "{\n",
    "    public abstract void Bob();\n",
    "\n",
    "    public void Name()\n",
    "    {\n",
    "        Console.WriteLine(\"Мою собаку зовут Кот\");\n",
    "    }\n",
    "}\n",
    "\n",
    "class Dog : Animal\n",
    "{\n",
    "    public override void Bob()\n",
    "    {\n",
    "        Console.WriteLine(\"А мою собаку зовут Боб\");\n",
    "    }\n",
    "}\n",
    "\n",
    "Dog myDog = new Dog();\n",
    "\n",
    "myDog.Bob();\n",
    "myDog.Name();"
   ]
  },
  {
   "cell_type": "markdown",
   "metadata": {},
   "source": [
    "<h2 style=\"color:DodgerBlue\">6. Ассоциация (Композиция и Агрегация)</h2>\n",
    "\n",
    "Композиция и агрегация являются двумя ключевыми концепциями в объектно-ориентированном программировании (ООП), включая C#. Они обе относятся к способам организации классов и их взаимодействия между собой, но имеют разные цели и способы реализации.\n",
    "\n",
    "<h3 style=\"color:DodgerBlue\">Композиция</h3>\n",
    "Композиция — это форма ассоциации, которая описывает \"часть-целое\" отношение между классами. В контексте композиции один класс является частью другого класса, и они работают вместе для достижения общей цели. Классы, участвующие в композиции, тесно связаны друг с другом, и если одна часть (подкласс) уничтожается или изменяется, это может повлиять на работу всей системы.\n",
    "\n",
    "\n",
    "<h3 style=\"color:DodgerBlue\">Пример кода:</h3>\n",
    "\n",
    "```csharp\n",
    "using System;\n",
    "\n",
    "public class Engine\n",
    "{\n",
    "    public void Start() => Console.WriteLine(\"Двигатель стартовал\");\n",
    "    public void Stop() => Console.WriteLine(\"Двигатель остановлен\");\n",
    "}\n",
    "\n",
    "public class Car\n",
    "{\n",
    "    private Engine engine;\n",
    "\n",
    "    public Car(Engine engine)\n",
    "    {\n",
    "        this.engine = engine;\n",
    "    }\n",
    "\n",
    "    public void Drive()\n",
    "    {\n",
    "        engine.Start();\n",
    "\n",
    "        // Дополнительная логика для движения автомобиля\n",
    "        Console.WriteLine(\"Автомобиль двигается\");\n",
    "\n",
    "        engine.Stop();\n",
    "    }\n",
    "}\n",
    "\n",
    "Engine myEngine = new Engine(); // Создание объекта myEngine\n",
    "Car myAuto = new Car(myEngine); // Создание объекта myAuto\n",
    "\n",
    "myAuto.Drive(); // Автомобиль начинает движение, используя двигатель\n",
    "\n",
    "```"
   ]
  },
  {
   "cell_type": "markdown",
   "metadata": {},
   "source": [
    "<h4 style=\"color:DodgerBlue\">Для проверки напишите пример кода ниже в блоке:</h4>\n",
    "\n",
    "----"
   ]
  },
  {
   "cell_type": "code",
   "execution_count": 110,
   "metadata": {
    "dotnet_interactive": {
     "language": "csharp"
    },
    "polyglot_notebook": {
     "kernelName": "csharp"
    }
   },
   "outputs": [],
   "source": [
    "\n",
    "public class Engine\n",
    "{\n",
    "    public void Start() => Console.WriteLine(\"Двигатель стартовал\");\n",
    "    public void Stop() => Console.WriteLine(\"Двигатель остановлен\");\n",
    "}\n",
    "\n",
    "public class Car\n",
    "{\n",
    "    private Engine engine;\n",
    "\n",
    "    public Car(Engine engine)\n",
    "    {\n",
    "        this.engine = engine;\n",
    "    }\n",
    "\n",
    "    public void Drive()\n",
    "    {\n",
    "        engine.Start();\n",
    "\n",
    "        // Дополнительная логика для движения автомобиля\n",
    "        Console.WriteLine(\"Автомобиль двигается\");\n",
    "\n",
    "        engine.Stop();\n",
    "    }\n",
    "}\n",
    "\n",
    "Engine myEngine = new Engine(); // Создание объекта myEngine\n",
    "Car myAuto = new Car(myEngine); // Создание объекта myAuto\n",
    "\n",
    "myAuto.Drive(); // Автомобиль начинает движение, используя двигатель"
   ]
  },
  {
   "cell_type": "markdown",
   "metadata": {},
   "source": [
    "<h4 style=\"color:Red\">Задание:</h4>\n",
    "\n",
    "----\n",
    "\n",
    "Ниже в блоке по примеру создайте класс Animal и реализуйте композицию "
   ]
  },
  {
   "cell_type": "code",
   "execution_count": 111,
   "metadata": {
    "dotnet_interactive": {
     "language": "csharp"
    },
    "polyglot_notebook": {
     "kernelName": "csharp"
    }
   },
   "outputs": [],
   "source": [
    "public class Movement \n",
    "{\n",
    "    public void Running() => Console.WriteLine(\"Зверь начал бежать\");\n",
    "    public void Stopped() => Console.WriteLine(\"Зверь остановился\");\n",
    "}\n",
    "\n",
    "public class Animal\n",
    "{\n",
    "    private Movement movement;\n",
    "\n",
    "    public Animal(Movement movement)\n",
    "    {\n",
    "        this.movement = movement;\n",
    "    }\n",
    "    \n",
    "    public void Start()\n",
    "    {\n",
    "        movement.Running();\n",
    "        \n",
    "        Console.WriteLine(\"Зверь бежит\");\n",
    "        \n",
    "        movement.Stopped();\n",
    "    }\n",
    "\n",
    "}\n",
    "\n",
    "Movement Smert = new Movement();\n",
    "Animal AANimal = new Animal(Smert);\n",
    "\n",
    "AANimal.Start();"
   ]
  },
  {
   "cell_type": "markdown",
   "metadata": {},
   "source": [
    "<h2 style=\"color:DodgerBlue\">7. Ассоциация (Композиция и Агрегация)</h2>\n",
    "\n",
    "<h3 style=\"color:DodgerBlue\">Агрегация</h3>\n",
    "Агрегация — это еще одна форма ассоциации, которая также описывает отношения между классами, но с более слабой связностью. В агрегации один класс содержит другой класс как составную часть, но эти классы могут функционировать независимо друг от друга. Если одна часть агрегата уничтожается, это не обязательно влияет на остальную систему.\n",
    "\n",
    "Для реализации агрегации на примере классов `Car` (автомобиль) и `Driver` (водитель) с использованием абстрактного класса, мы можем определить базовый абстрактный класс `Vehicle` (Транспортное средство), который будет содержать общие характеристики для всех видов транспортных средств. Затем, мы определим классы `Car` и `Driver`, которые будут агрегироваться вместе, но будут независимы друг от друга.\n",
    "\n",
    "### Шаги для реализации:\n",
    "\n",
    "1. **Определение абстрактного класса `Vehicle`:** Этот класс будет служить базовым классом для всех транспортных средств, определяя общие свойства и методы.\n",
    "\n",
    "2. **Определение класса `Driver`:** Этот класс будет содержать информацию о водителе и методы, связанные с его действиями за рулем.\n",
    "\n",
    "3. **Определение класса `Car`:** Этот класс будет наследоваться от `Vehicle` и будет агрегировать `Driver`, но при этом будет независим от него.\n",
    "\n",
    "<h3 style=\"color:DodgerBlue\">Пример кода:</h3>\n",
    "\n",
    "```csharp\n",
    "\n",
    "using System;\n",
    "\n",
    "abstract class Vehicle\n",
    "{\n",
    "    public abstract void Drive();\n",
    "}\n",
    "\n",
    "class Car : Vehicle\n",
    "{\n",
    "    private Driver driver;\n",
    "\n",
    "    public Car(Driver driver)\n",
    "    {\n",
    "        this.driver = driver;\n",
    "    }\n",
    "\n",
    "    public override void Drive()\n",
    "    {\n",
    "        Console.WriteLine(\"Автомобиль движется...\");\n",
    "    }\n",
    "}\n",
    "\n",
    "class Driver\n",
    "{\n",
    "    public string Name { get; set; }\n",
    "\n",
    "    public Driver(string name)\n",
    "    {\n",
    "        Name = name;\n",
    "    }\n",
    "\n",
    "    public void Drive(Vehicle vehicle)\n",
    "    {\n",
    "        Console.WriteLine($\"{Name} управляет траспортом...\");\n",
    "        vehicle.Drive();\n",
    "    }\n",
    "}\n",
    "\n",
    "    Driver Igor = new Driver(\"Игорь\");\n",
    "    Car myCar = new Car(Igor); // Создаем автомобиль с водителем\n",
    "\n",
    "    myCar.Drive(); // Автомобиль начинает движение\n",
    "    Igor.Drive(myCar); // Водитель также может начать движение, используя автомобиль\n",
    "```\n",
    "\n",
    "### Объяснение:\n",
    "\n",
    "- **Абстрактный класс `Vehicle`:** Определяет базовые свойства и методы для всех транспортных средств. В данном случае, метод `Drive` является абстрактным, что требует его переопределения в производных классах.\n",
    "\n",
    "- **Класс `Car`:** Наследуется от `Vehicle` и добавляет специфичную для автомобиля логику. Он агрегирует `Driver`, но может существовать и функционировать независимо от него.\n",
    "\n",
    "- **Класс `Driver`:** Определяет водителя с его атрибутами и методом `Drive`, который позволяет водителю управлять любым транспортным средством, включая автомобиль.\n",
    "\n",
    "- **Объекты `Igor` и `myCar`:** Создаются экземпляры классов `Driver` и `Car`, демонстрируя агрегацию, где `Car` зависит от `Driver` для своего функционирования, но `Driver` может существовать и функционировать независимо от `Car`.\n",
    "\n",
    "Этот пример демонстрирует агрегацию, показывая, как классы могут взаимодействовать и зависеть друг от друга без формирования строгих отношений наследования или композиции.\n",
    "\n",
    "<h4 style=\"color:DodgerBlue\">Заключение</h4>\n",
    "\n",
    "Основное различие между композицией и агрегацией заключается в степени зависимости между классами:\n",
    "\n",
    "* Композиция подразумевает тесную связь, где одна часть не может существовать без другой.\n",
    "* Агрегация означает более слабую связь, где части могут существовать и функционировать независимо.\n",
    "\n",
    "Выбор между композицией и агрегацией зависит от конкретных требований к системе и степень зависимости между компонентами."
   ]
  },
  {
   "cell_type": "markdown",
   "metadata": {},
   "source": [
    "<h4 style=\"color:DodgerBlue\">Для проверки напишите пример кода ниже в блоке:</h4>\n",
    "\n",
    "----"
   ]
  },
  {
   "cell_type": "code",
   "execution_count": 112,
   "metadata": {
    "dotnet_interactive": {
     "language": "csharp"
    },
    "polyglot_notebook": {
     "kernelName": "csharp"
    }
   },
   "outputs": [],
   "source": [
    "abstract class Vehicle\n",
    "{\n",
    "    public abstract void Drive();\n",
    "}\n",
    "\n",
    "class Car : Vehicle\n",
    "{\n",
    "    private Driver driver;\n",
    "\n",
    "    public Car(Driver driver)\n",
    "    {\n",
    "        this.driver = driver;\n",
    "    }\n",
    "\n",
    "    public override void Drive()\n",
    "    {\n",
    "        Console.WriteLine(\"Автомобиль движется...\");\n",
    "    }\n",
    "}\n",
    "\n",
    "class Driver\n",
    "{\n",
    "    public string Name { get; set; }\n",
    "\n",
    "    public Driver(string name)\n",
    "    {\n",
    "        Name = name;\n",
    "    }\n",
    "\n",
    "    public void Drive(Vehicle vehicle)\n",
    "    {\n",
    "        Console.WriteLine($\"{Name} управляет траспортом...\");\n",
    "        vehicle.Drive();\n",
    "    }\n",
    "}\n",
    "\n",
    "    Driver Igor = new Driver(\"Игорь\");\n",
    "    Car myCar = new Car(Igor); // Создаем автомобиль с водителем\n",
    "\n",
    "    myCar.Drive(); // Автомобиль начинает движение\n",
    "    Igor.Drive(myCar); // Водитель также может начать движение, используя автомобиль"
   ]
  },
  {
   "cell_type": "markdown",
   "metadata": {},
   "source": [
    "<h4 style=\"color:Red\">Задание:</h4>\n",
    "\n",
    "----\n",
    "\n",
    "Ниже в блоке по примеру создайте класс Animal и реализуйте агрегацию "
   ]
  },
  {
   "cell_type": "code",
   "execution_count": 119,
   "metadata": {
    "dotnet_interactive": {
     "language": "csharp"
    },
    "polyglot_notebook": {
     "kernelName": "csharp"
    }
   },
   "outputs": [
    {
     "name": "stdout",
     "output_type": "stream",
     "text": [
      "Змея кусает добычу\n",
      "Змея змея ползет...\n",
      "Змея кусает добычу\n"
     ]
    }
   ],
   "source": [
    "abstract class Animal\n",
    "{\n",
    "    public abstract void Tod();\n",
    "}\n",
    "\n",
    "class Bob : Animal\n",
    "{\n",
    "    private Tiger tiger;\n",
    "\n",
    "    public Bob(Tiger tiger)\n",
    "    {\n",
    "        this.tiger = tiger;\n",
    "    }\n",
    "\n",
    "    public override void Tod()\n",
    "    {\n",
    "        Console.WriteLine(\"Змея кусает добычу\");\n",
    "    }\n",
    "}\n",
    "\n",
    "class Tiger\n",
    "{\n",
    "    public string Name { get; set; }\n",
    "\n",
    "    public Tiger(string name)\n",
    "    {\n",
    "        Name = name;\n",
    "    }\n",
    "\n",
    "    public void Tod(Animal animal)\n",
    "    {\n",
    "        Console.WriteLine($\"{Name} змея ползет...\");\n",
    "        animal.Tod();\n",
    "    }\n",
    "}\n",
    "\n",
    "\n",
    "    Tiger Sneke = new Tiger(\"Змея\");\n",
    "    Bob mob = new Bob(Sneke); \n",
    "\n",
    "    mob.Tod(); \n",
    "    Sneke.Tod(mob); "
   ]
  }
 ],
 "metadata": {
  "kernelspec": {
   "display_name": ".NET (C#)",
   "language": "C#",
   "name": ".net-csharp"
  },
  "polyglot_notebook": {
   "kernelInfo": {
    "defaultKernelName": "csharp",
    "items": [
     {
      "aliases": [],
      "languageName": "csharp",
      "name": "csharp"
     }
    ]
   }
  }
 },
 "nbformat": 4,
 "nbformat_minor": 2
}
